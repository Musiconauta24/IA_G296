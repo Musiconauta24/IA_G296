{
 "cells": [
  {
   "cell_type": "code",
   "execution_count": null,
   "id": "b0d39211",
   "metadata": {},
   "outputs": [],
   "source": [
    "\"\"\"\n",
    "Aprendizaje por refuerzo\n",
    "\n",
    "-Agente(sistema, robot...) Robot\n",
    "-Entorno (En munto que rodia al agente) las 4 celdas\n",
    "-Estado (Pocisión del agnete dentro del entorno) [0,1,2,3]\n",
    "-Acción (Decisión a tomar por parte del agente) izq-der\n",
    "-Recompenza (El valor que se le da al agente tras llegar a cierto estado) Celda 3\n",
    "-Episodio (Conjunto de acciones desde el primer hasta el ultimo estado) de [0] a [3]\n",
    "-Politica  (La estrategia que se le da al agente para saber que acción tomar) \n",
    "    si está en [0] no puede ir a la izquierda y si está en [3] no puede ir a la derecha\n",
    "\n",
    "\n",
    "Descripción del entorno\n",
    "Celdas: [0,1,2,3]\n",
    "Inicio: [0]\n",
    "Objetivo: [3]\n",
    "Acciones posibles: izq(0), der(1)\n",
    "Si trata de se sale del rango no se dezplaza\n",
    "al llegar a la celda 3 termina el episodio.\n",
    "\n",
    "\"\"\""
   ]
  },
  {
   "cell_type": "code",
   "execution_count": null,
   "id": "1522552c",
   "metadata": {},
   "outputs": [],
   "source": [
    "import numpy as np\n",
    "import random\n",
    "\n",
    "# Parámetros\n",
    "num_states = 4 # [0,1,2,3]\n",
    "num_actions = 2 # 0:izq , 1:der\n",
    "\n",
    "q_table = np.zeros((num_states,num_actions))\n",
    "q_table\n"
   ]
  }
 ],
 "metadata": {
  "language_info": {
   "name": "python"
  }
 },
 "nbformat": 4,
 "nbformat_minor": 5
}
