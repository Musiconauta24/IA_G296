{
  "cells": [
    {
      "cell_type": "code",
      "execution_count": 1,
      "id": "b3381c0d",
      "metadata": {
        "id": "b3381c0d"
      },
      "outputs": [],
      "source": [
        "#==================================\n",
        "# 1️⃣ Improtar la librería de Pandas\n",
        "#==================================\n",
        "import pandas as pd\n",
        "import numpy as np\n",
        "import matplotlib.pyplot as plt"
      ]
    },
    {
      "cell_type": "code",
      "source": [
        "#==================================\n",
        "# 2️⃣ Cargar los archivos CSV\n",
        "#==================================\n",
        "# Usamos pd.read_csv\n",
        "ventas_df = pd.read_csv(\"ventas.csv\")\n",
        "inventarios_df = pd.read_csv(\"inventarios.csv\")\n",
        "satisfaccion_df = pd.read_csv(\"satisfaccion.csv\")"
      ],
      "metadata": {
        "id": "kj6N2zosk5df",
        "outputId": "331048bc-1284-48ae-fbfa-247a8347c1ea",
        "colab": {
          "base_uri": "https://localhost:8080/",
          "height": 356
        }
      },
      "id": "kj6N2zosk5df",
      "execution_count": 2,
      "outputs": [
        {
          "output_type": "error",
          "ename": "FileNotFoundError",
          "evalue": "[Errno 2] No such file or directory: 'ventas.csv'",
          "traceback": [
            "\u001b[0;31m---------------------------------------------------------------------------\u001b[0m",
            "\u001b[0;31mFileNotFoundError\u001b[0m                         Traceback (most recent call last)",
            "\u001b[0;32m/tmp/ipython-input-3042892566.py\u001b[0m in \u001b[0;36m<cell line: 0>\u001b[0;34m()\u001b[0m\n\u001b[1;32m      3\u001b[0m \u001b[0;31m#==================================\u001b[0m\u001b[0;34m\u001b[0m\u001b[0;34m\u001b[0m\u001b[0m\n\u001b[1;32m      4\u001b[0m \u001b[0;31m# Usamos pd.read_csv\u001b[0m\u001b[0;34m\u001b[0m\u001b[0;34m\u001b[0m\u001b[0m\n\u001b[0;32m----> 5\u001b[0;31m \u001b[0mventas_df\u001b[0m \u001b[0;34m=\u001b[0m \u001b[0mpd\u001b[0m\u001b[0;34m.\u001b[0m\u001b[0mread_csv\u001b[0m\u001b[0;34m(\u001b[0m\u001b[0;34m\"ventas.csv\"\u001b[0m\u001b[0;34m)\u001b[0m\u001b[0;34m\u001b[0m\u001b[0;34m\u001b[0m\u001b[0m\n\u001b[0m\u001b[1;32m      6\u001b[0m \u001b[0minventarios_df\u001b[0m \u001b[0;34m=\u001b[0m \u001b[0mpd\u001b[0m\u001b[0;34m.\u001b[0m\u001b[0mread_csv\u001b[0m\u001b[0;34m(\u001b[0m\u001b[0;34m\"inventarios.csv\"\u001b[0m\u001b[0;34m)\u001b[0m\u001b[0;34m\u001b[0m\u001b[0;34m\u001b[0m\u001b[0m\n\u001b[1;32m      7\u001b[0m \u001b[0msatisfaccion_df\u001b[0m \u001b[0;34m=\u001b[0m \u001b[0mpd\u001b[0m\u001b[0;34m.\u001b[0m\u001b[0mread_csv\u001b[0m\u001b[0;34m(\u001b[0m\u001b[0;34m\"satisfaccion.csv\"\u001b[0m\u001b[0;34m)\u001b[0m\u001b[0;34m\u001b[0m\u001b[0;34m\u001b[0m\u001b[0m\n",
            "\u001b[0;32m/usr/local/lib/python3.11/dist-packages/pandas/io/parsers/readers.py\u001b[0m in \u001b[0;36mread_csv\u001b[0;34m(filepath_or_buffer, sep, delimiter, header, names, index_col, usecols, dtype, engine, converters, true_values, false_values, skipinitialspace, skiprows, skipfooter, nrows, na_values, keep_default_na, na_filter, verbose, skip_blank_lines, parse_dates, infer_datetime_format, keep_date_col, date_parser, date_format, dayfirst, cache_dates, iterator, chunksize, compression, thousands, decimal, lineterminator, quotechar, quoting, doublequote, escapechar, comment, encoding, encoding_errors, dialect, on_bad_lines, delim_whitespace, low_memory, memory_map, float_precision, storage_options, dtype_backend)\u001b[0m\n\u001b[1;32m   1024\u001b[0m     \u001b[0mkwds\u001b[0m\u001b[0;34m.\u001b[0m\u001b[0mupdate\u001b[0m\u001b[0;34m(\u001b[0m\u001b[0mkwds_defaults\u001b[0m\u001b[0;34m)\u001b[0m\u001b[0;34m\u001b[0m\u001b[0;34m\u001b[0m\u001b[0m\n\u001b[1;32m   1025\u001b[0m \u001b[0;34m\u001b[0m\u001b[0m\n\u001b[0;32m-> 1026\u001b[0;31m     \u001b[0;32mreturn\u001b[0m \u001b[0m_read\u001b[0m\u001b[0;34m(\u001b[0m\u001b[0mfilepath_or_buffer\u001b[0m\u001b[0;34m,\u001b[0m \u001b[0mkwds\u001b[0m\u001b[0;34m)\u001b[0m\u001b[0;34m\u001b[0m\u001b[0;34m\u001b[0m\u001b[0m\n\u001b[0m\u001b[1;32m   1027\u001b[0m \u001b[0;34m\u001b[0m\u001b[0m\n\u001b[1;32m   1028\u001b[0m \u001b[0;34m\u001b[0m\u001b[0m\n",
            "\u001b[0;32m/usr/local/lib/python3.11/dist-packages/pandas/io/parsers/readers.py\u001b[0m in \u001b[0;36m_read\u001b[0;34m(filepath_or_buffer, kwds)\u001b[0m\n\u001b[1;32m    618\u001b[0m \u001b[0;34m\u001b[0m\u001b[0m\n\u001b[1;32m    619\u001b[0m     \u001b[0;31m# Create the parser.\u001b[0m\u001b[0;34m\u001b[0m\u001b[0;34m\u001b[0m\u001b[0m\n\u001b[0;32m--> 620\u001b[0;31m     \u001b[0mparser\u001b[0m \u001b[0;34m=\u001b[0m \u001b[0mTextFileReader\u001b[0m\u001b[0;34m(\u001b[0m\u001b[0mfilepath_or_buffer\u001b[0m\u001b[0;34m,\u001b[0m \u001b[0;34m**\u001b[0m\u001b[0mkwds\u001b[0m\u001b[0;34m)\u001b[0m\u001b[0;34m\u001b[0m\u001b[0;34m\u001b[0m\u001b[0m\n\u001b[0m\u001b[1;32m    621\u001b[0m \u001b[0;34m\u001b[0m\u001b[0m\n\u001b[1;32m    622\u001b[0m     \u001b[0;32mif\u001b[0m \u001b[0mchunksize\u001b[0m \u001b[0;32mor\u001b[0m \u001b[0miterator\u001b[0m\u001b[0;34m:\u001b[0m\u001b[0;34m\u001b[0m\u001b[0;34m\u001b[0m\u001b[0m\n",
            "\u001b[0;32m/usr/local/lib/python3.11/dist-packages/pandas/io/parsers/readers.py\u001b[0m in \u001b[0;36m__init__\u001b[0;34m(self, f, engine, **kwds)\u001b[0m\n\u001b[1;32m   1618\u001b[0m \u001b[0;34m\u001b[0m\u001b[0m\n\u001b[1;32m   1619\u001b[0m         \u001b[0mself\u001b[0m\u001b[0;34m.\u001b[0m\u001b[0mhandles\u001b[0m\u001b[0;34m:\u001b[0m \u001b[0mIOHandles\u001b[0m \u001b[0;34m|\u001b[0m \u001b[0;32mNone\u001b[0m \u001b[0;34m=\u001b[0m \u001b[0;32mNone\u001b[0m\u001b[0;34m\u001b[0m\u001b[0;34m\u001b[0m\u001b[0m\n\u001b[0;32m-> 1620\u001b[0;31m         \u001b[0mself\u001b[0m\u001b[0;34m.\u001b[0m\u001b[0m_engine\u001b[0m \u001b[0;34m=\u001b[0m \u001b[0mself\u001b[0m\u001b[0;34m.\u001b[0m\u001b[0m_make_engine\u001b[0m\u001b[0;34m(\u001b[0m\u001b[0mf\u001b[0m\u001b[0;34m,\u001b[0m \u001b[0mself\u001b[0m\u001b[0;34m.\u001b[0m\u001b[0mengine\u001b[0m\u001b[0;34m)\u001b[0m\u001b[0;34m\u001b[0m\u001b[0;34m\u001b[0m\u001b[0m\n\u001b[0m\u001b[1;32m   1621\u001b[0m \u001b[0;34m\u001b[0m\u001b[0m\n\u001b[1;32m   1622\u001b[0m     \u001b[0;32mdef\u001b[0m \u001b[0mclose\u001b[0m\u001b[0;34m(\u001b[0m\u001b[0mself\u001b[0m\u001b[0;34m)\u001b[0m \u001b[0;34m->\u001b[0m \u001b[0;32mNone\u001b[0m\u001b[0;34m:\u001b[0m\u001b[0;34m\u001b[0m\u001b[0;34m\u001b[0m\u001b[0m\n",
            "\u001b[0;32m/usr/local/lib/python3.11/dist-packages/pandas/io/parsers/readers.py\u001b[0m in \u001b[0;36m_make_engine\u001b[0;34m(self, f, engine)\u001b[0m\n\u001b[1;32m   1878\u001b[0m                 \u001b[0;32mif\u001b[0m \u001b[0;34m\"b\"\u001b[0m \u001b[0;32mnot\u001b[0m \u001b[0;32min\u001b[0m \u001b[0mmode\u001b[0m\u001b[0;34m:\u001b[0m\u001b[0;34m\u001b[0m\u001b[0;34m\u001b[0m\u001b[0m\n\u001b[1;32m   1879\u001b[0m                     \u001b[0mmode\u001b[0m \u001b[0;34m+=\u001b[0m \u001b[0;34m\"b\"\u001b[0m\u001b[0;34m\u001b[0m\u001b[0;34m\u001b[0m\u001b[0m\n\u001b[0;32m-> 1880\u001b[0;31m             self.handles = get_handle(\n\u001b[0m\u001b[1;32m   1881\u001b[0m                 \u001b[0mf\u001b[0m\u001b[0;34m,\u001b[0m\u001b[0;34m\u001b[0m\u001b[0;34m\u001b[0m\u001b[0m\n\u001b[1;32m   1882\u001b[0m                 \u001b[0mmode\u001b[0m\u001b[0;34m,\u001b[0m\u001b[0;34m\u001b[0m\u001b[0;34m\u001b[0m\u001b[0m\n",
            "\u001b[0;32m/usr/local/lib/python3.11/dist-packages/pandas/io/common.py\u001b[0m in \u001b[0;36mget_handle\u001b[0;34m(path_or_buf, mode, encoding, compression, memory_map, is_text, errors, storage_options)\u001b[0m\n\u001b[1;32m    871\u001b[0m         \u001b[0;32mif\u001b[0m \u001b[0mioargs\u001b[0m\u001b[0;34m.\u001b[0m\u001b[0mencoding\u001b[0m \u001b[0;32mand\u001b[0m \u001b[0;34m\"b\"\u001b[0m \u001b[0;32mnot\u001b[0m \u001b[0;32min\u001b[0m \u001b[0mioargs\u001b[0m\u001b[0;34m.\u001b[0m\u001b[0mmode\u001b[0m\u001b[0;34m:\u001b[0m\u001b[0;34m\u001b[0m\u001b[0;34m\u001b[0m\u001b[0m\n\u001b[1;32m    872\u001b[0m             \u001b[0;31m# Encoding\u001b[0m\u001b[0;34m\u001b[0m\u001b[0;34m\u001b[0m\u001b[0m\n\u001b[0;32m--> 873\u001b[0;31m             handle = open(\n\u001b[0m\u001b[1;32m    874\u001b[0m                 \u001b[0mhandle\u001b[0m\u001b[0;34m,\u001b[0m\u001b[0;34m\u001b[0m\u001b[0;34m\u001b[0m\u001b[0m\n\u001b[1;32m    875\u001b[0m                 \u001b[0mioargs\u001b[0m\u001b[0;34m.\u001b[0m\u001b[0mmode\u001b[0m\u001b[0;34m,\u001b[0m\u001b[0;34m\u001b[0m\u001b[0;34m\u001b[0m\u001b[0m\n",
            "\u001b[0;31mFileNotFoundError\u001b[0m: [Errno 2] No such file or directory: 'ventas.csv'"
          ]
        }
      ]
    },
    {
      "cell_type": "code",
      "source": [
        "#==================================\n",
        "# 3️⃣ Mostrar las primeras filas\n",
        "print (\"====Ventas===\")\n",
        "print (ventas_df.head(),\"\\n\")\n",
        "print (\"===Inventarios===\")\n",
        "print (inventarios_df.head(),\"\\n\")\n",
        "print (\"===Satisfacción===\")\n",
        "print (satisfaccion_df.head(),\"\\n\")\n",
        "# El comando .head permite visualizar las primeras 5 filas del archivo para ver su estructura."
      ],
      "metadata": {
        "id": "B4C071N-k9wv"
      },
      "id": "B4C071N-k9wv",
      "execution_count": null,
      "outputs": []
    },
    {
      "cell_type": "code",
      "source": [
        "#==================================\n",
        "# Limpiar Datos (Eliminar filas con valores nulos)\n",
        "#==================================\n",
        "ventas_df = ventas_df.dropna()\n",
        "inventarios_df = inventarios_df.dropna()\n",
        "satisfaccion_df = satisfaccion_df.dropna()\n"
      ],
      "metadata": {
        "id": "cOwdU5yWlBLP"
      },
      "id": "cOwdU5yWlBLP",
      "execution_count": null,
      "outputs": []
    },
    {
      "cell_type": "code",
      "source": [
        "#==================================\n",
        "# Análisis de ventas totales\n",
        "#==================================\n",
        "ventas_df[\"Ventas_Totales\"] = ventas_df [\"Cantidad_Vendida\"] * ventas_df[\"Precio_Unitario\"]\n",
        "print(ventas_df)\n",
        "print (\"===Ventas Totales===\")\n",
        "ventas_totales = ventas_df.groupby(\"ID_Tienda\")[\"Ventas_Totales\"].sum().reset_index()\n",
        "print (ventas_totales)"
      ],
      "metadata": {
        "id": "5JjGMBMFlJ3H"
      },
      "id": "5JjGMBMFlJ3H",
      "execution_count": null,
      "outputs": []
    },
    {
      "cell_type": "code",
      "source": [
        "#==================================\n",
        "# Rotación de Inventarios\n",
        "#==================================\n",
        "ventas_inventarios = pd.merge(ventas_df,inventarios_df, on = [\"ID_Tienda\",\"Producto\"], how = \"inner\")\n",
        "#==================================\n",
        "# merge combilas las filas de ambos DF\n",
        "# on = [\"ID_Tienda\", \"Producto\"] Clave de Union obligatoria que existe en ambos DF\n",
        "# how = \"inner\" solo conserva las filas que tienen coincidencias en ambos\n",
        "#==================================\n",
        "print (\"===================Ventas de Inventario==================\")\n",
        "print (ventas_inventarios)\n",
        "ventas_inventarios[\"Rotación_inventario\"] = ((ventas_inventarios[\"Cantidad_Vendida\"]*100)//ventas_inventarios[\"Stock_Disponible\"])\n",
        "print (ventas_inventarios)\n",
        "\n",
        "#==================================\n",
        "# Rotación de Inventarios por tienda\n",
        "#==================================\n",
        "\n",
        "print (\"===Rotación mínima de inventarios por producto===\")\n",
        "print (ventas_inventarios[\"Rotación_inventario\"] <= 10)\n",
        "rot_ventas = ventas_inventarios.groupby(\"ID_Tienda\")[\"Rotación_inventario\"].min().reset_index()\n",
        "# Se filtra por el producto menos vendido de cada tienda, atendiendo a la pregunta\n",
        "rot_ventas = rot_ventas[\"Rotación_inventario\"] <= 10\n",
        "print (\"===Tiendas con rotación insuficiente===\")\n",
        "print (rot_ventas)\n"
      ],
      "metadata": {
        "id": "j9AHZLE8lFGn"
      },
      "id": "j9AHZLE8lFGn",
      "execution_count": null,
      "outputs": []
    },
    {
      "cell_type": "code",
      "source": [
        "#==================================\n",
        "# Analizar la satisfacción del cliente y filtrar las tiendas con una satisfacción menor al 60%.\n",
        "#==================================\n",
        "# Agregar columna de verificación de meta de satisfacción a satisfaccion_df\n",
        "satisfaccion_df[\"Meta_satisfacción\"] = satisfaccion_df[\"Satisfacción_Promedio\"] >= 60\n",
        "print (satisfaccion_df)"
      ],
      "metadata": {
        "id": "omO_ie19lRdH"
      },
      "id": "omO_ie19lRdH",
      "execution_count": null,
      "outputs": []
    },
    {
      "cell_type": "code",
      "source": [
        "#==================================\n",
        "## Realizar cálculos numéricos con Numpy:\n",
        "#==================================\n",
        "# Calcular la mediana de las ventas totales.\n",
        "print (f\"la mediana de las ventas totales es: {int(np.median(ventas_df[\"Ventas_Totales\"]))}\")\n",
        "\n",
        "# Calcular la desviación estándar de las ventas.\n",
        "print (f\"La desviación standard de las ventas totales es: {int(np.std(ventas_df[\"Ventas_Totales\"]))}\")\n"
      ],
      "metadata": {
        "id": "YDW1-GuhlWGf"
      },
      "id": "YDW1-GuhlWGf",
      "execution_count": null,
      "outputs": []
    },
    {
      "cell_type": "code",
      "source": [
        "# Simular proyecciones de ventas futuras usando arrays aleatorios de Numpy.\n",
        "Simulacion_ventas = {\n",
        "    \"ID_Tienda\": pd.Series (),\n",
        "    \"Producto\": pd.Series (),\n",
        "    \"Cantidad_Vendida\": pd.Series (),\n",
        "    \"Precio_Unitario\": pd.Series (),\n",
        "    \"Ventas_Totales\": pd.Series (),\n",
        "    \"Fecha_Venta\": pd.Series (),\n",
        "    }\n",
        "df = pd.DataFrame(Simulacion_ventas)\n",
        "print (df)\n",
        "tipo = int(input(\"Defina el tipo de simulación que desea realizar (Pesimista: 1, Continua: 2, Optimista: 3 Exponencial: 4): \"))\n",
        "simulaciones = int(input(\"\\n Escriba La cantidad de datos que desea simular: \"))\n",
        "for i in range(simulaciones):\n",
        "    df.loc[i, \"ID_Tienda\"] = np.random.randint(1, 6)\n",
        "    df.loc[i, \"Producto\"] = np.random.choice([\"Producto A\", \"Producto B\", \"Producto C\"])\n",
        "    if df.loc[i, \"Producto\"] == \"Producto A\":\n",
        "        df.loc[i, \"Precio_Unitario\"] = 100\n",
        "    elif df.loc[i, \"Producto\"] == \"Producto B\":\n",
        "        df.loc[i, \"Precio_Unitario\"] = 200\n",
        "    elif df.loc[i, \"Producto\"] == \"Producto C\":\n",
        "        df.loc[i, \"Precio_Unitario\"] = 300\n",
        "    if tipo == 1:\n",
        "        df.loc[i, \"Cantidad_Vendida\"] = int(np.random.randint((20 - (i//2)),(40 - (i//2))))\n",
        "        if i > 15:\n",
        "            upper = max(1, 40 - (i//2))\n",
        "            df.loc[i, \"Cantidad_Vendida\"] = int(np.random.randint(0, upper))\n",
        "            if i >= 80:\n",
        "                df.loc[i, \"Cantidad_Vendida\"] = 0\n",
        "    elif tipo == 2:\n",
        "        df.loc[i, \"Cantidad_Vendida\"] = int(np.random.randint(15,40))\n",
        "    elif tipo == 3:\n",
        "        df.loc[i, \"Cantidad_Vendida\"] = int(np.random.randint((20 + i),(40 + i)))\n",
        "    elif tipo == 4:\n",
        "        min_val = int(np.trunc(20 + np.power(1.1, i)))\n",
        "        max_val = int(np.trunc(40 + np.power(1.1, i)))\n",
        "        if max_val > min_val:\n",
        "            df.loc[i, \"Cantidad_Vendida\"] = int(np.random.randint(min_val, max_val))\n",
        "        else:\n",
        "            df.loc[i, \"Cantidad_Vendida\"] = min_val\n",
        "    else:\n",
        "        print (\"Se seleccionó un tipo de simulación invalido\")\n",
        "\n",
        "    df.loc[i, \"Fecha_Venta\"] = (pd.to_datetime(\"2025-08-10\") + pd.Timedelta(days=i)).strftime(\"%Y-%m-%d\")\n",
        "df[\"Ventas_Totales\"] = df[\"Cantidad_Vendida\"] * df[\"Precio_Unitario\"]\n",
        "print(df)\n",
        "\n",
        "# Crear el eje de tiempo (puede ser el índice o la columna Fecha_Venta)\n",
        "# Gráfica independiente de Ventas Totales (Simuladas)\n",
        "# Crear el eje de tiempo y los datos de ventas totales simuladas a partir de df\n",
        "tiempo_df = pd.to_datetime(df[\"Fecha_Venta\"])\n",
        "ventas_totales_df = pd.to_numeric(df[\"Ventas_Totales\"], errors='coerce')\n",
        "\n",
        "plt.figure(figsize=(10, 5))\n",
        "plt.plot(tiempo_df, ventas_totales_df, label=\"Ventas Totales (Simuladas)\", color='blue')\n",
        "plt.xlabel(\"Tiempo\")\n",
        "plt.ylabel(\"Ventas Totales\")\n",
        "plt.title(\"Ventas Totales Simuladas\")\n",
        "plt.legend()\n",
        "plt.show()\n",
        "\n",
        "# Gráfica independiente de Cantidad Vendida (Simulada)\n",
        "tiempo_df = pd.to_datetime(df[\"Fecha_Venta\"])\n",
        "cantidad_vendida_df = pd.to_numeric(df[\"Cantidad_Vendida\"], errors='coerce')\n",
        "\n",
        "plt.figure(figsize=(10, 5))\n",
        "plt.plot(tiempo_df, cantidad_vendida_df, label=\"Cantidad Vendida (Simulada)\", color='green')\n",
        "plt.xlabel(\"Tiempo\")\n",
        "plt.ylabel(\"Cantidad Vendida\")\n",
        "plt.title(\"Cantidad Vendida Simulada\")\n",
        "plt.legend()\n",
        "plt.show()"
      ],
      "metadata": {
        "id": "koY1Q6Hvlewv"
      },
      "id": "koY1Q6Hvlewv",
      "execution_count": null,
      "outputs": []
    },
    {
      "cell_type": "code",
      "source": [
        "#Generador de puntos ()\n",
        "tiempo =np. arange(15)\n",
        "ventas_aleatorias = np.random.randint(10,60,(1,15))\n",
        "\n",
        "\n",
        "#proyectar las ventas con la tendencia lineal\n",
        "pendiente = 50\n",
        "intereseccion = 1000\n",
        "ventas_proyectadas = pendiente * tiempo + intereseccion + ventas_aleatorias\n",
        "\n",
        "import matplotlib.pyplot as plt\n",
        "plt.plot(tiempo, ventas_proyectadas.flatten(), label=\"Ventas proyectadas\")\n",
        "plt.xlabel(\"tiempo\")\n",
        "plt.ylabel(\"ventas_proyectadas\")\n",
        "plt.legend ()\n",
        "plt.show()\n"
      ],
      "metadata": {
        "id": "MnruvXbwlk33"
      },
      "id": "MnruvXbwlk33",
      "execution_count": null,
      "outputs": []
    }
  ],
  "metadata": {
    "kernelspec": {
      "display_name": "env",
      "language": "python",
      "name": "python3"
    },
    "language_info": {
      "codemirror_mode": {
        "name": "ipython",
        "version": 3
      },
      "file_extension": ".py",
      "mimetype": "text/x-python",
      "name": "python",
      "nbconvert_exporter": "python",
      "pygments_lexer": "ipython3",
      "version": "3.13.2"
    },
    "colab": {
      "provenance": []
    }
  },
  "nbformat": 4,
  "nbformat_minor": 5
}