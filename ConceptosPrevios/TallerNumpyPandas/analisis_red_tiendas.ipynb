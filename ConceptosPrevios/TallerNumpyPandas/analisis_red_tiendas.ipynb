{
  "cells": [
    {
      "cell_type": "code",
      "execution_count": 35,
      "id": "b3381c0d",
      "metadata": {
        "id": "b3381c0d"
      },
      "outputs": [],
      "source": [
        "#==================================\n",
        "# 1️⃣ Improtar la librería de Pandas\n",
        "#==================================\n",
        "import pandas as pd\n",
        "import numpy as np\n",
        "import matplotlib.pyplot as plt"
      ]
    },
    {
      "cell_type": "code",
      "execution_count": 36,
      "id": "B4C071N-k9wv",
      "metadata": {
        "id": "B4C071N-k9wv"
      },
      "outputs": [],
      "source": [
        "#==================================\n",
        "# 2️⃣ Cargar los archivos CSV\n",
        "#==================================\n",
        "# Usamos pd.read_csv\n",
        "ventas_df = pd.read_csv(\"ventas.csv\")\n",
        "inventarios_df = pd.read_csv(\"inventarios.csv\")\n",
        "satisfaccion_df = pd.read_csv(\"satisfaccion.csv\")"
      ]
    },
    {
      "cell_type": "code",
      "execution_count": 37,
      "id": "cOwdU5yWlBLP",
      "metadata": {
        "id": "cOwdU5yWlBLP"
      },
      "outputs": [],
      "source": [
        "#==================================\n",
        "# Limpiar Datos (Eliminar filas con valores nulos)\n",
        "#==================================\n",
        "ventas_df = ventas_df.dropna()\n",
        "inventarios_df = inventarios_df.dropna()\n",
        "satisfaccion_df = satisfaccion_df.dropna()\n"
      ]
    },
    {
      "cell_type": "code",
      "execution_count": 38,
      "id": "5JjGMBMFlJ3H",
      "metadata": {
        "id": "5JjGMBMFlJ3H"
      },
      "outputs": [
        {
          "name": "stdout",
          "output_type": "stream",
          "text": [
            "   ID_Tienda    Producto  Cantidad_Vendida  Precio_Unitario Fecha_Venta  \\\n",
            "0          1  Producto A                20              100  2023-01-05   \n",
            "1          1  Producto B                15              200  2023-01-06   \n",
            "2          2  Producto A                30              100  2023-01-07   \n",
            "3          2  Producto C                25              300  2023-01-08   \n",
            "4          3  Producto A                10              100  2023-01-09   \n",
            "5          3  Producto B                40              200  2023-01-10   \n",
            "6          4  Producto C                35              300  2023-01-11   \n",
            "7          4  Producto A                25              100  2023-01-12   \n",
            "8          5  Producto B                20              200  2023-01-13   \n",
            "9          5  Producto C                30              300  2023-01-14   \n",
            "\n",
            "   Ventas_Totales  \n",
            "0            2000  \n",
            "1            3000  \n",
            "2            3000  \n",
            "3            7500  \n",
            "4            1000  \n",
            "5            8000  \n",
            "6           10500  \n",
            "7            2500  \n",
            "8            4000  \n",
            "9            9000  \n",
            "===Ventas Totales===\n",
            "   ID_Tienda  Ventas_Totales\n",
            "0          1            5000\n",
            "1          2           10500\n",
            "2          3            9000\n",
            "3          4           13000\n",
            "4          5           13000\n"
          ]
        }
      ],
      "source": [
        "#==================================\n",
        "# Análisis de ventas totales\n",
        "#==================================\n",
        "ventas_df[\"Ventas_Totales\"] = ventas_df [\"Cantidad_Vendida\"] * ventas_df[\"Precio_Unitario\"]\n",
        "print(ventas_df)\n",
        "print (\"===Ventas Totales===\")\n",
        "ventas_totales = ventas_df.groupby(\"ID_Tienda\")[\"Ventas_Totales\"].sum().reset_index()\n",
        "print (ventas_totales)"
      ]
    },
    {
      "cell_type": "code",
      "execution_count": 39,
      "id": "j9AHZLE8lFGn",
      "metadata": {
        "id": "j9AHZLE8lFGn"
      },
      "outputs": [
        {
          "name": "stdout",
          "output_type": "stream",
          "text": [
            "===================Ventas de Inventario==================\n",
            "   ID_Tienda    Producto  Cantidad_Vendida  Precio_Unitario Fecha_Venta  \\\n",
            "0          1  Producto A                20              100  2023-01-05   \n",
            "1          1  Producto B                15              200  2023-01-06   \n",
            "2          2  Producto A                30              100  2023-01-07   \n",
            "3          2  Producto C                25              300  2023-01-08   \n",
            "4          3  Producto A                10              100  2023-01-09   \n",
            "5          3  Producto B                40              200  2023-01-10   \n",
            "6          4  Producto C                35              300  2023-01-11   \n",
            "7          4  Producto A                25              100  2023-01-12   \n",
            "8          5  Producto B                20              200  2023-01-13   \n",
            "9          5  Producto C                30              300  2023-01-14   \n",
            "\n",
            "   Ventas_Totales  Stock_Disponible Fecha_Actualización  \n",
            "0            2000                50          2023-01-05  \n",
            "1            3000                40          2023-01-06  \n",
            "2            3000                60          2023-01-07  \n",
            "3            7500                45          2023-01-08  \n",
            "4            1000                30          2023-01-09  \n",
            "5            8000                80          2023-01-10  \n",
            "6           10500                70          2023-01-11  \n",
            "7            2500                50          2023-01-12  \n",
            "8            4000                40          2023-01-13  \n",
            "9            9000                60          2023-01-14  \n",
            "   ID_Tienda    Producto  Cantidad_Vendida  Precio_Unitario Fecha_Venta  \\\n",
            "0          1  Producto A                20              100  2023-01-05   \n",
            "1          1  Producto B                15              200  2023-01-06   \n",
            "2          2  Producto A                30              100  2023-01-07   \n",
            "3          2  Producto C                25              300  2023-01-08   \n",
            "4          3  Producto A                10              100  2023-01-09   \n",
            "5          3  Producto B                40              200  2023-01-10   \n",
            "6          4  Producto C                35              300  2023-01-11   \n",
            "7          4  Producto A                25              100  2023-01-12   \n",
            "8          5  Producto B                20              200  2023-01-13   \n",
            "9          5  Producto C                30              300  2023-01-14   \n",
            "\n",
            "   Ventas_Totales  Stock_Disponible Fecha_Actualización  Rotación_inventario  \n",
            "0            2000                50          2023-01-05                   40  \n",
            "1            3000                40          2023-01-06                   37  \n",
            "2            3000                60          2023-01-07                   50  \n",
            "3            7500                45          2023-01-08                   55  \n",
            "4            1000                30          2023-01-09                   33  \n",
            "5            8000                80          2023-01-10                   50  \n",
            "6           10500                70          2023-01-11                   50  \n",
            "7            2500                50          2023-01-12                   50  \n",
            "8            4000                40          2023-01-13                   50  \n",
            "9            9000                60          2023-01-14                   50  \n",
            "===Rotación mínima de inventarios por producto===\n",
            "0    False\n",
            "1    False\n",
            "2    False\n",
            "3    False\n",
            "4    False\n",
            "5    False\n",
            "6    False\n",
            "7    False\n",
            "8    False\n",
            "9    False\n",
            "Name: Rotación_inventario, dtype: bool\n",
            "===Tiendas con rotación insuficiente===\n",
            "0    False\n",
            "1    False\n",
            "2    False\n",
            "3    False\n",
            "4    False\n",
            "Name: Rotación_inventario, dtype: bool\n"
          ]
        }
      ],
      "source": [
        "#==================================\n",
        "# Rotación de Inventarios\n",
        "#==================================\n",
        "ventas_inventarios = pd.merge(ventas_df,inventarios_df, on = [\"ID_Tienda\",\"Producto\"], how = \"inner\")\n",
        "#==================================\n",
        "# merge combilas las filas de ambos DF\n",
        "# on = [\"ID_Tienda\", \"Producto\"] Clave de Union obligatoria que existe en ambos DF\n",
        "# how = \"inner\" solo conserva las filas que tienen coincidencias en ambos\n",
        "#==================================\n",
        "print (\"===================Ventas de Inventario==================\")\n",
        "print (ventas_inventarios)\n",
        "ventas_inventarios[\"Rotación_inventario\"] = ((ventas_inventarios[\"Cantidad_Vendida\"]*100)//ventas_inventarios[\"Stock_Disponible\"])\n",
        "print (ventas_inventarios)\n",
        "\n",
        "#==================================\n",
        "# Rotación de Inventarios por tienda\n",
        "#==================================\n",
        "\n",
        "print (\"===Rotación mínima de inventarios por producto===\")\n",
        "print (ventas_inventarios[\"Rotación_inventario\"] <= 10)\n",
        "rot_ventas = ventas_inventarios.groupby(\"ID_Tienda\")[\"Rotación_inventario\"].min().reset_index()\n",
        "# Se filtra por el producto menos vendido de cada tienda, atendiendo a la pregunta\n",
        "rot_ventas = rot_ventas[\"Rotación_inventario\"] <= 10\n",
        "print (\"===Tiendas con rotación insuficiente===\")\n",
        "print (rot_ventas)\n"
      ]
    },
    {
      "cell_type": "code",
      "execution_count": 40,
      "id": "omO_ie19lRdH",
      "metadata": {
        "id": "omO_ie19lRdH"
      },
      "outputs": [
        {
          "name": "stdout",
          "output_type": "stream",
          "text": [
            "   ID_Tienda  Satisfacción_Promedio Fecha_Evaluación  Meta_satisfacción\n",
            "0          1                     85       2023-01-15               True\n",
            "1          2                     90       2023-01-15               True\n",
            "2          3                     70       2023-01-15               True\n",
            "3          4                     65       2023-01-15               True\n",
            "4          5                     55       2023-01-15              False\n"
          ]
        }
      ],
      "source": [
        "#==================================\n",
        "# Analizar la satisfacción del cliente y filtrar las tiendas con una satisfacción menor al 60%.\n",
        "#==================================\n",
        "# Agregar columna de verificación de meta de satisfacción a satisfaccion_df\n",
        "satisfaccion_df[\"Meta_satisfacción\"] = satisfaccion_df[\"Satisfacción_Promedio\"] >= 60\n",
        "print (satisfaccion_df)"
      ]
    },
    {
      "cell_type": "code",
      "execution_count": 41,
      "id": "YDW1-GuhlWGf",
      "metadata": {
        "id": "YDW1-GuhlWGf"
      },
      "outputs": [
        {
          "name": "stdout",
          "output_type": "stream",
          "text": [
            "la mediana de las ventas totales es: 3500\n",
            "La desviación standard de las ventas totales es: 3189\n"
          ]
        }
      ],
      "source": [
        "#==================================\n",
        "## Realizar cálculos numéricos con Numpy:\n",
        "#==================================\n",
        "# Calcular la mediana de las ventas totales.\n",
        "print (f\"la mediana de las ventas totales es: {int(np.median(ventas_df[\"Ventas_Totales\"]))}\")\n",
        "\n",
        "# Calcular la desviación estándar de las ventas.\n",
        "print (f\"La desviación standard de las ventas totales es: {int(np.std(ventas_df[\"Ventas_Totales\"]))}\")\n"
      ]
    },
    {
      "cell_type": "code",
      "execution_count": null,
      "id": "MnruvXbwlk33",
      "metadata": {
        "id": "MnruvXbwlk33"
      },
      "outputs": [
        {
          "data": {
            "image/png": "[encoded data removed]",
            "text/plain": [
              "<Figure size 640x480 with 1 Axes>"
            ]
          },
          "metadata": {},
          "output_type": "display_data"
        }
      ],
      "source": [
        "#Generador de puntos ()\n",
        "tiempo =np. arange(15)\n",
        "ventas_aleatorias = np.random.randint(10,60,(1,15))\n",
        "\n",
        "\n",
        "#proyectar las ventas con la tendencia lineal\n",
        "pendiente = 50\n",
        "intereseccion = 1000\n",
        "ventas_proyectadas = pendiente * tiempo + intereseccion + ventas_aleatorias\n",
        "\n",
        "import matplotlib.pyplot as plt\n",
        "plt.plot(tiempo, ventas_proyectadas.flatten(), label=\"Ventas proyectadas\")\n",
        "plt.xlabel(\"tiempo\")\n",
        "plt.ylabel(\"ventas_proyectadas\")\n",
        "plt.legend ()\n",
        "plt.show()\n"
      ]
    }
  ],
  "metadata": {
    "colab": {
      "provenance": []
    },
    "kernelspec": {
      "display_name": "env",
      "language": "python",
      "name": "python3"
    },
    "language_info": {
      "codemirror_mode": {
        "name": "ipython",
        "version": 3
      },
      "file_extension": ".py",
      "mimetype": "text/x-python",
      "name": "python",
      "nbconvert_exporter": "python",
      "pygments_lexer": "ipython3",
      "version": "3.13.2"
    }
  },
  "nbformat": 4,
  "nbformat_minor": 5
}
