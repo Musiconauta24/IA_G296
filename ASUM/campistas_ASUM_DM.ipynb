{
  "nbformat": 4,
  "nbformat_minor": 0,
  "metadata": {
    "colab": {
      "provenance": [],
      "include_colab_link": true
    },
    "kernelspec": {
      "name": "python3",
      "display_name": "Python 3"
    },
    "language_info": {
      "name": "python"
    }
  },
  "cells": [
    {
      "cell_type": "markdown",
      "metadata": {
        "id": "view-in-github",
        "colab_type": "text"
      },
      "source": [
        "<a href=\"https://colab.research.google.com/github/Musiconauta24/IA_G296/blob/main/ASUM/campistas_ASUM_DM.ipynb\" target=\"_parent\"><img src=\"https://colab.research.google.com/assets/colab-badge.svg\" alt=\"Open In Colab\"/></a>"
      ]
    },
    {
      "cell_type": "markdown",
      "source": [
        "#ASUM-DM"
      ],
      "metadata": {
        "id": "d5gO4Q91t5e7"
      }
    },
    {
      "cell_type": "markdown",
      "source": [
        " Es un enfoque para la preparación y organización de datos que se enfoca en 5 etapas fundamentales:\n",
        "\n",
        "Análisis, selección, unificación, muestreo y depuración.\n",
        "\n",
        "Este proceso es útil para mejorar la calidad de los datos antes de usarlos en modelos de análisis y aprendizaje automático\n",
        "\n"
      ],
      "metadata": {
        "id": "lELnlzZYusk9"
      }
    },
    {
      "cell_type": "markdown",
      "source": [
        "Contesto el problema:\n",
        "análisis de clientes para estrategias de marketing personalizada una empresa de servicios financieros quiere lanzar una campaña de marketing personalizada para sus clientes de varias ciudades.\n",
        " La idea es identificar perfiles de clientes en función de características como edad, ingresos y categoría de cliente para definir estrategias.\n",
        "\n",
        "El equipo de marketing ha solicitado los analistas de datos e identificar:\n"
      ],
      "metadata": {
        "id": "UBXoqA_svj8q"
      }
    },
    {
      "cell_type": "markdown",
      "source": [
        "segmentos de clientes:\n",
        "agrupar a los clientes en función de su categoría, ingresos, edad y ciudad.\n",
        "\n",
        "Tendencias de ingresos:\n",
        " analizar la distribución de los ingresos mensuales y detectar patrones en diferentes ciudades y edades.\n",
        "\n",
        "Clientes potenciales:\n",
        "identificar clientes con altos ingresos y en categoría de alto valor(“A”) para campañas específicas.\n",
        "\n",
        "Sin embargo, el conjunto de datos tiene varios problemas qué dificultan el análisis directo, cómo duplicados, valores atípicos y errores tipográficos.\n",
        "\n",
        "Antes de aplicar modelos de segmentación y análisis de tendencias, es necesario limpiar y organizar la información\n"
      ],
      "metadata": {
        "id": "iG5_iHKTwrfl"
      }
    },
    {
      "cell_type": "markdown",
      "source": [
        "# 1 Análisis de los datos (A):"
      ],
      "metadata": {
        "id": "mDFyqkoaxErQ"
      }
    },
    {
      "cell_type": "markdown",
      "source": [
        "Objetivo:\n",
        "\n",
        " examinar la calidad y característica de los datos.\n",
        "\n",
        " Acciones:\n",
        "  revisar el conjunto de datos para identificar valores faltantes,  datos inconsistentes, duplicados, errores tipográficos y valores atípicos.\n",
        "\n",
        "Este paso permite entender el tipo de problema que podrían afectar el análisis y decidir cómo resolverlos.\n"
      ],
      "metadata": {
        "id": "F9vwpOZVxLcx"
      }
    },
    {
      "cell_type": "code",
      "source": [
        "#Importar librerías necesarias\n",
        "import  pandas as pd\n",
        "import numpy as np\n",
        "\n",
        "\n",
        "#Leer el archivo csv  en un DataFrame\n",
        "df = np.read_csv(\"campistas_ASUM_DM.ipynb\")\n",
        "#contar cantidad de registros\n",
        "df.count()"
      ],
      "metadata": {
        "id": "-YJaNhmW9QaV",
        "outputId": "96553e84-6350-407f-d7d5-a6ddf5eaa14d",
        "colab": {
          "base_uri": "https://localhost:8080/",
          "height": 332
        }
      },
      "execution_count": 3,
      "outputs": [
        {
          "output_type": "error",
          "ename": "AttributeError",
          "evalue": "module 'numpy' has no attribute 'read_csv'",
          "traceback": [
            "\u001b[0;31m---------------------------------------------------------------------------\u001b[0m",
            "\u001b[0;31mAttributeError\u001b[0m                            Traceback (most recent call last)",
            "\u001b[0;32m/tmp/ipython-input-3599459728.py\u001b[0m in \u001b[0;36m<cell line: 0>\u001b[0;34m()\u001b[0m\n\u001b[1;32m      5\u001b[0m \u001b[0;34m\u001b[0m\u001b[0m\n\u001b[1;32m      6\u001b[0m \u001b[0;31m#Leer el archivo csv  en un DataFrame\u001b[0m\u001b[0;34m\u001b[0m\u001b[0;34m\u001b[0m\u001b[0m\n\u001b[0;32m----> 7\u001b[0;31m \u001b[0mdf\u001b[0m \u001b[0;34m=\u001b[0m \u001b[0mnp\u001b[0m\u001b[0;34m.\u001b[0m\u001b[0mread_csv\u001b[0m\u001b[0;34m(\u001b[0m\u001b[0;34m\"campistas_ASUM_DM.ipynb\"\u001b[0m\u001b[0;34m)\u001b[0m\u001b[0;34m\u001b[0m\u001b[0;34m\u001b[0m\u001b[0m\n\u001b[0m\u001b[1;32m      8\u001b[0m \u001b[0;31m#contar cantidad de registros\u001b[0m\u001b[0;34m\u001b[0m\u001b[0;34m\u001b[0m\u001b[0m\n\u001b[1;32m      9\u001b[0m \u001b[0mdf\u001b[0m\u001b[0;34m.\u001b[0m\u001b[0mcount\u001b[0m\u001b[0;34m(\u001b[0m\u001b[0;34m)\u001b[0m\u001b[0;34m\u001b[0m\u001b[0;34m\u001b[0m\u001b[0m\n",
            "\u001b[0;32m/usr/local/lib/python3.11/dist-packages/numpy/__init__.py\u001b[0m in \u001b[0;36m__getattr__\u001b[0;34m(attr)\u001b[0m\n\u001b[1;32m    408\u001b[0m             \u001b[0;32mreturn\u001b[0m \u001b[0mchar\u001b[0m\u001b[0;34m.\u001b[0m\u001b[0mchararray\u001b[0m\u001b[0;34m\u001b[0m\u001b[0;34m\u001b[0m\u001b[0m\n\u001b[1;32m    409\u001b[0m \u001b[0;34m\u001b[0m\u001b[0m\n\u001b[0;32m--> 410\u001b[0;31m         raise AttributeError(\"module {!r} has no attribute \"\n\u001b[0m\u001b[1;32m    411\u001b[0m                              \"{!r}\".format(__name__, attr))\n\u001b[1;32m    412\u001b[0m \u001b[0;34m\u001b[0m\u001b[0m\n",
            "\u001b[0;31mAttributeError\u001b[0m: module 'numpy' has no attribute 'read_csv'"
          ]
        }
      ]
    },
    {
      "cell_type": "code",
      "source": [
        "# Mostrar las ptimeras filas del DataFrame\n",
        "print (\"====================Vista inicial del DataFrame=================\")\n",
        "display (df.head())"
      ],
      "metadata": {
        "id": "rd2fOk469Te1"
      },
      "execution_count": null,
      "outputs": []
    },
    {
      "cell_type": "code",
      "source": [
        "# 1. Verificar los valores nulos\n",
        "print(\"\\n Valores nulos por columnas:\")\n",
        "df.isnull().sum()\n",
        "display (df.isnull().sum())"
      ],
      "metadata": {
        "id": "OE4zDQzg9Yed"
      },
      "execution_count": null,
      "outputs": []
    },
    {
      "cell_type": "code",
      "source": [
        "# 2. Identifique edades inconsistentes\n",
        "# Consideremos que las edades validas estan entre 18 y 90 años\n",
        "edades_inconsistentes = (df[(df['Edad'] < 18) | ((df['Edad'] > 90)) | (df['Edad'].isnull())])\n",
        "print (edades_inconsistentes)"
      ],
      "metadata": {
        "id": "_8KiWKJV-hJE"
      },
      "execution_count": null,
      "outputs": []
    },
    {
      "cell_type": "code",
      "source": [
        "# 3. Identifique inconsistencias en los nombres de las ciudades\n",
        "# ver una lista de las ciudades ingresadas para detectar variaciones\n",
        "ciudades_unicas = df['Ciudad'].dropna(). unique()\n",
        "print (\"\\n Ciudades únicas\")\n",
        "print (ciudades_unicas)"
      ],
      "metadata": {
        "id": "e3vOkO46-jpt"
      },
      "execution_count": null,
      "outputs": []
    },
    {
      "cell_type": "code",
      "source": [
        "#Filtrado de datos\n",
        "# 1 selección de columnas útiles\n",
        "# 2 filtrado de valores inconsistentes\n",
        "# 3 filtrado de edades en un rango\n",
        "edades_inconsistentes = df[(df['Edad'] >= 18) & ((df['Edad'] <= 90))]\n",
        "print (edades_inconsistentes)"
      ],
      "metadata": {
        "id": "jTDXzioX9-c8"
      },
      "execution_count": 4,
      "outputs": []
    },
    {
      "cell_type": "markdown",
      "source": [
        "# 2 Selección  de los datos (S):"
      ],
      "metadata": {
        "id": "chqBNUV78Q0c"
      }
    },
    {
      "cell_type": "markdown",
      "source": [
        "Objetivo: Elegir las variables y los registros más relevantes para el análisis.\n"
      ],
      "metadata": {
        "id": "G3gn6aVt8mRY"
      }
    },
    {
      "cell_type": "markdown",
      "source": [
        "Acciones: Determinar qué columna (atributos) y filas (registros) son útiles para el objetivo del análisis."
      ],
      "metadata": {
        "id": "M-RjHNVX826r"
      }
    },
    {
      "cell_type": "markdown",
      "source": [
        "Eliminar variables redundantes, irrelevantes o registros que no aportan valor lo cual ayuda a mejorar la eficiencia del procesamiento."
      ],
      "metadata": {
        "id": "uCgsVBoO9YsR"
      }
    },
    {
      "cell_type": "markdown",
      "source": [
        "Filtrado de flilas(registros):\n",
        "Eliminar registros que tengan:\n",
        "Edades fuera del rango razonable (18 a 90).\n",
        "ingresos no númericos o valores negativos.\n",
        "categorías de clientes a \"A\", \"B\", \"C\"\n",
        "\n",
        "\"A\" cliente de alto valor\n",
        "\n",
        "\"B\" cliente de valor medio\n",
        "\n",
        "\"C\" cliente de bajo valor"
      ],
      "metadata": {
        "id": "Cy1fi6-W-3Wr"
      }
    },
    {
      "cell_type": "markdown",
      "source": [
        "# 3 Unificación y normalización de valores(U)"
      ],
      "metadata": {
        "id": "L-iSlVAocPFD"
      }
    },
    {
      "cell_type": "markdown",
      "source": [
        "Estandarizar los nombre de ciudades para tener consistencia en los datos y facilitar el análisis posterir.\n",
        "pasos:\n",
        "Normalización de los nombres de ciudades: Convertir todos los nombres a un formato consistente ,eliminar errores tipográficos y variaciones en mayúsculas/minúsculas también corregiremos cualquier variación que deba agruparse\n",
        "Ejemplos:\n",
        "\"Ciudad_A\" y \"ciudad_a deben ser iguales\n"
      ],
      "metadata": {
        "id": "RZRozr6WcnrN"
      }
    },
    {
      "cell_type": "code",
      "source": [],
      "metadata": {
        "id": "yAYDpmAs9b-N"
      },
      "execution_count": null,
      "outputs": []
    },
    {
      "cell_type": "markdown",
      "source": [
        "# 4 Muestreo representativo(M):\n"
      ],
      "metadata": {
        "id": "kqz_bb-vvnwT"
      }
    },
    {
      "cell_type": "markdown",
      "source": [
        "Si es necesario, crear un subconjunto de dotos representativos para pruebas iniciales de segmentación\n",
        "pasos:\n",
        "\n",
        "Definir el tamaño de la Muestra:\n",
        "\n",
        "Asegurar representatividad en categorías clave:\n",
        "\n",
        "Revisar y validar la muestra:\n"
      ],
      "metadata": {
        "id": "L3ERbn8hvvpP"
      }
    },
    {
      "cell_type": "markdown",
      "source": [
        "# 5 Depuración final (D):\n"
      ],
      "metadata": {
        "id": "qFFLPOZn4As8"
      }
    },
    {
      "cell_type": "markdown",
      "source": [
        "# 6 con los datos organizados y depurados:"
      ],
      "metadata": {
        "id": "tVJrfCdzu1sZ"
      }
    },
    {
      "cell_type": "markdown",
      "source": [],
      "metadata": {
        "id": "2Y_MjcYJu4OR"
      }
    },
    {
      "cell_type": "markdown",
      "source": [
        "Aplicar técnicas de segmentación de clientes para identificar distintos perfiles dentro del conjunto de datos.\n"
      ],
      "metadata": {
        "id": "SchrrRzvu8o9"
      }
    }
  ]
}